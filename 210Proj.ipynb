{
  "nbformat": 4,
  "nbformat_minor": 0,
  "metadata": {
    "colab": {
      "provenance": [],
      "authorship_tag": "ABX9TyOxpVMU2N++Q4yuB8r2YIuZ",
      "include_colab_link": true
    },
    "kernelspec": {
      "name": "python3",
      "display_name": "Python 3"
    },
    "language_info": {
      "name": "python"
    }
  },
  "cells": [
    {
      "cell_type": "markdown",
      "metadata": {
        "id": "view-in-github",
        "colab_type": "text"
      },
      "source": [
        "<a href=\"https://colab.research.google.com/github/KashmalaSiddiqui/210FinalProject/blob/main/210Proj.ipynb\" target=\"_parent\"><img src=\"https://colab.research.google.com/assets/colab-badge.svg\" alt=\"Open In Colab\"/></a>"
      ]
    },
    {
      "cell_type": "code",
      "execution_count": 1,
      "metadata": {
        "id": "4NDn7M_cRK4r",
        "colab": {
          "base_uri": "https://localhost:8080/",
          "height": 71
        },
        "outputId": "3907ef0e-6e27-46e5-c261-e5ae14da12af"
      },
      "outputs": [
        {
          "output_type": "display_data",
          "data": {
            "text/plain": [
              "<IPython.core.display.HTML object>"
            ],
            "text/html": [
              "\n",
              "     <input type=\"file\" id=\"files-3034edbe-9746-4aa4-835a-9139dd913b9c\" name=\"files[]\" multiple disabled\n",
              "        style=\"border:none\" />\n",
              "     <output id=\"result-3034edbe-9746-4aa4-835a-9139dd913b9c\">\n",
              "      Upload widget is only available when the cell has been executed in the\n",
              "      current browser session. Please rerun this cell to enable.\n",
              "      </output>\n",
              "      <script>// Copyright 2017 Google LLC\n",
              "//\n",
              "// Licensed under the Apache License, Version 2.0 (the \"License\");\n",
              "// you may not use this file except in compliance with the License.\n",
              "// You may obtain a copy of the License at\n",
              "//\n",
              "//      http://www.apache.org/licenses/LICENSE-2.0\n",
              "//\n",
              "// Unless required by applicable law or agreed to in writing, software\n",
              "// distributed under the License is distributed on an \"AS IS\" BASIS,\n",
              "// WITHOUT WARRANTIES OR CONDITIONS OF ANY KIND, either express or implied.\n",
              "// See the License for the specific language governing permissions and\n",
              "// limitations under the License.\n",
              "\n",
              "/**\n",
              " * @fileoverview Helpers for google.colab Python module.\n",
              " */\n",
              "(function(scope) {\n",
              "function span(text, styleAttributes = {}) {\n",
              "  const element = document.createElement('span');\n",
              "  element.textContent = text;\n",
              "  for (const key of Object.keys(styleAttributes)) {\n",
              "    element.style[key] = styleAttributes[key];\n",
              "  }\n",
              "  return element;\n",
              "}\n",
              "\n",
              "// Max number of bytes which will be uploaded at a time.\n",
              "const MAX_PAYLOAD_SIZE = 100 * 1024;\n",
              "\n",
              "function _uploadFiles(inputId, outputId) {\n",
              "  const steps = uploadFilesStep(inputId, outputId);\n",
              "  const outputElement = document.getElementById(outputId);\n",
              "  // Cache steps on the outputElement to make it available for the next call\n",
              "  // to uploadFilesContinue from Python.\n",
              "  outputElement.steps = steps;\n",
              "\n",
              "  return _uploadFilesContinue(outputId);\n",
              "}\n",
              "\n",
              "// This is roughly an async generator (not supported in the browser yet),\n",
              "// where there are multiple asynchronous steps and the Python side is going\n",
              "// to poll for completion of each step.\n",
              "// This uses a Promise to block the python side on completion of each step,\n",
              "// then passes the result of the previous step as the input to the next step.\n",
              "function _uploadFilesContinue(outputId) {\n",
              "  const outputElement = document.getElementById(outputId);\n",
              "  const steps = outputElement.steps;\n",
              "\n",
              "  const next = steps.next(outputElement.lastPromiseValue);\n",
              "  return Promise.resolve(next.value.promise).then((value) => {\n",
              "    // Cache the last promise value to make it available to the next\n",
              "    // step of the generator.\n",
              "    outputElement.lastPromiseValue = value;\n",
              "    return next.value.response;\n",
              "  });\n",
              "}\n",
              "\n",
              "/**\n",
              " * Generator function which is called between each async step of the upload\n",
              " * process.\n",
              " * @param {string} inputId Element ID of the input file picker element.\n",
              " * @param {string} outputId Element ID of the output display.\n",
              " * @return {!Iterable<!Object>} Iterable of next steps.\n",
              " */\n",
              "function* uploadFilesStep(inputId, outputId) {\n",
              "  const inputElement = document.getElementById(inputId);\n",
              "  inputElement.disabled = false;\n",
              "\n",
              "  const outputElement = document.getElementById(outputId);\n",
              "  outputElement.innerHTML = '';\n",
              "\n",
              "  const pickedPromise = new Promise((resolve) => {\n",
              "    inputElement.addEventListener('change', (e) => {\n",
              "      resolve(e.target.files);\n",
              "    });\n",
              "  });\n",
              "\n",
              "  const cancel = document.createElement('button');\n",
              "  inputElement.parentElement.appendChild(cancel);\n",
              "  cancel.textContent = 'Cancel upload';\n",
              "  const cancelPromise = new Promise((resolve) => {\n",
              "    cancel.onclick = () => {\n",
              "      resolve(null);\n",
              "    };\n",
              "  });\n",
              "\n",
              "  // Wait for the user to pick the files.\n",
              "  const files = yield {\n",
              "    promise: Promise.race([pickedPromise, cancelPromise]),\n",
              "    response: {\n",
              "      action: 'starting',\n",
              "    }\n",
              "  };\n",
              "\n",
              "  cancel.remove();\n",
              "\n",
              "  // Disable the input element since further picks are not allowed.\n",
              "  inputElement.disabled = true;\n",
              "\n",
              "  if (!files) {\n",
              "    return {\n",
              "      response: {\n",
              "        action: 'complete',\n",
              "      }\n",
              "    };\n",
              "  }\n",
              "\n",
              "  for (const file of files) {\n",
              "    const li = document.createElement('li');\n",
              "    li.append(span(file.name, {fontWeight: 'bold'}));\n",
              "    li.append(span(\n",
              "        `(${file.type || 'n/a'}) - ${file.size} bytes, ` +\n",
              "        `last modified: ${\n",
              "            file.lastModifiedDate ? file.lastModifiedDate.toLocaleDateString() :\n",
              "                                    'n/a'} - `));\n",
              "    const percent = span('0% done');\n",
              "    li.appendChild(percent);\n",
              "\n",
              "    outputElement.appendChild(li);\n",
              "\n",
              "    const fileDataPromise = new Promise((resolve) => {\n",
              "      const reader = new FileReader();\n",
              "      reader.onload = (e) => {\n",
              "        resolve(e.target.result);\n",
              "      };\n",
              "      reader.readAsArrayBuffer(file);\n",
              "    });\n",
              "    // Wait for the data to be ready.\n",
              "    let fileData = yield {\n",
              "      promise: fileDataPromise,\n",
              "      response: {\n",
              "        action: 'continue',\n",
              "      }\n",
              "    };\n",
              "\n",
              "    // Use a chunked sending to avoid message size limits. See b/62115660.\n",
              "    let position = 0;\n",
              "    do {\n",
              "      const length = Math.min(fileData.byteLength - position, MAX_PAYLOAD_SIZE);\n",
              "      const chunk = new Uint8Array(fileData, position, length);\n",
              "      position += length;\n",
              "\n",
              "      const base64 = btoa(String.fromCharCode.apply(null, chunk));\n",
              "      yield {\n",
              "        response: {\n",
              "          action: 'append',\n",
              "          file: file.name,\n",
              "          data: base64,\n",
              "        },\n",
              "      };\n",
              "\n",
              "      let percentDone = fileData.byteLength === 0 ?\n",
              "          100 :\n",
              "          Math.round((position / fileData.byteLength) * 100);\n",
              "      percent.textContent = `${percentDone}% done`;\n",
              "\n",
              "    } while (position < fileData.byteLength);\n",
              "  }\n",
              "\n",
              "  // All done.\n",
              "  yield {\n",
              "    response: {\n",
              "      action: 'complete',\n",
              "    }\n",
              "  };\n",
              "}\n",
              "\n",
              "scope.google = scope.google || {};\n",
              "scope.google.colab = scope.google.colab || {};\n",
              "scope.google.colab._files = {\n",
              "  _uploadFiles,\n",
              "  _uploadFilesContinue,\n",
              "};\n",
              "})(self);\n",
              "</script> "
            ]
          },
          "metadata": {}
        },
        {
          "output_type": "stream",
          "name": "stdout",
          "text": [
            "Saving instagram-kashmalaomer-2024-10-24-XRLfCyb3.zip to instagram-kashmalaomer-2024-10-24-XRLfCyb3.zip\n"
          ]
        }
      ],
      "source": [
        "#Upload the dataset\n",
        "from google.colab import files\n",
        "uploaded = files.upload()"
      ]
    },
    {
      "cell_type": "code",
      "source": [
        "import zipfile\n",
        "import os\n",
        "\n",
        "# Specify the name of your uploaded zip file\n",
        "zip_file_name = \"instagram-kashmalaomer-2024-10-24-XRLfCyb3.zip\"\n",
        "\n",
        "# Extract the zip file\n",
        "with zipfile.ZipFile(zip_file_name, 'r') as zip_ref:\n",
        "    zip_ref.extractall(\"extracted_data\")\n",
        "\n",
        "# List the extracted files\n",
        "print(\"Extracted files:\", os.listdir(\"extracted_data\"))\n",
        "\n",
        "# Later from this, just keep te your_instagram_activity, ads_information and delete the rest\n",
        "#then we work with the instagram activity"
      ],
      "metadata": {
        "colab": {
          "base_uri": "https://localhost:8080/"
        },
        "id": "sADy4KHw-ceo",
        "outputId": "fb569fff-f07d-4c12-b56e-167a44b7f15c"
      },
      "execution_count": 2,
      "outputs": [
        {
          "output_type": "stream",
          "name": "stdout",
          "text": [
            "Extracted files: ['ads_information', 'preferences', 'apps_and_websites_off_of_instagram', 'personal_information', 'security_and_login_information', 'logged_information', 'your_instagram_activity', 'connections', 'media']\n"
          ]
        }
      ]
    },
    {
      "cell_type": "code",
      "source": [
        "!pip install emoji"
      ],
      "metadata": {
        "id": "C_t1gFikFpxt",
        "outputId": "d407b98b-b44d-4b43-e667-e2014bce1da9",
        "colab": {
          "base_uri": "https://localhost:8080/"
        }
      },
      "execution_count": 3,
      "outputs": [
        {
          "output_type": "stream",
          "name": "stdout",
          "text": [
            "Collecting emoji\n",
            "  Downloading emoji-2.14.0-py3-none-any.whl.metadata (5.7 kB)\n",
            "Downloading emoji-2.14.0-py3-none-any.whl (586 kB)\n",
            "\u001b[?25l   \u001b[90m━━━━━━━━━━━━━━━━━━━━━━━━━━━━━━━━━━━━━━━━\u001b[0m \u001b[32m0.0/586.9 kB\u001b[0m \u001b[31m?\u001b[0m eta \u001b[36m-:--:--\u001b[0m\r\u001b[2K   \u001b[91m━━━━\u001b[0m\u001b[91m╸\u001b[0m\u001b[90m━━━━━━━━━━━━━━━━━━━━━━━━━━━━━━━━━━━\u001b[0m \u001b[32m71.7/586.9 kB\u001b[0m \u001b[31m2.6 MB/s\u001b[0m eta \u001b[36m0:00:01\u001b[0m\r\u001b[2K   \u001b[91m━━━━━━━━━━━━━━━━━━━━━━━━━━━━━━━━━━━━━━━\u001b[0m\u001b[91m╸\u001b[0m \u001b[32m583.7/586.9 kB\u001b[0m \u001b[31m9.2 MB/s\u001b[0m eta \u001b[36m0:00:01\u001b[0m\r\u001b[2K   \u001b[90m━━━━━━━━━━━━━━━━━━━━━━━━━━━━━━━━━━━━━━━━\u001b[0m \u001b[32m586.9/586.9 kB\u001b[0m \u001b[31m7.4 MB/s\u001b[0m eta \u001b[36m0:00:00\u001b[0m\n",
            "\u001b[?25hInstalling collected packages: emoji\n",
            "Successfully installed emoji-2.14.0\n"
          ]
        }
      ]
    },
    {
      "cell_type": "markdown",
      "source": [
        "## AD info\n"
      ],
      "metadata": {
        "id": "TR-IRb5yhCSn"
      }
    },
    {
      "cell_type": "code",
      "source": [
        "import json\n",
        "import pandas as pd\n",
        "\n",
        "ads_info_path = \"/content/extracted_data/ads_information\""
      ],
      "metadata": {
        "id": "Wp1nvtNiy2xr"
      },
      "execution_count": null,
      "outputs": []
    },
    {
      "cell_type": "markdown",
      "source": [
        "## **Comments parsing**"
      ],
      "metadata": {
        "id": "Vl4qUk2ifSEG"
      }
    },
    {
      "cell_type": "code",
      "source": [
        "#Old\n",
        "import json\n",
        "import pandas as pd\n",
        "\n",
        "# Specify the file path\n",
        "file_path = \"/content/extracted_data/your_instagram_activity/comments/post_comments_1.json\"\n",
        "\n",
        "# Load the JSON file\n",
        "with open(file_path, 'r', encoding='utf-8') as f:\n",
        "    comments_data = json.load(f)\n",
        "\n",
        "# Convert JSON to a DataFrame\n",
        "df_comments = pd.json_normalize(comments_data)\n",
        "\n",
        "# Function to fix double UTF-8 encoded strings\n",
        "def fix_double_encoding(text):\n",
        "    try:\n",
        "        # Decode as bytes, then re-encode as UTF-8\n",
        "        return bytes(text, \"utf-8\").decode(\"utf-8\").encode(\"latin1\").decode(\"utf-8\")\n",
        "    except:\n",
        "        return text  # Return original text if decoding fails\n",
        "\n",
        "# Fix the 'Comment.value' column\n",
        "if 'string_map_data.Comment.value' in df_comments.columns:\n",
        "    df_comments['string_map_data.Comment.value'] = df_comments['string_map_data.Comment.value'].apply(\n",
        "        lambda x: fix_double_encoding(x) if isinstance(x, str) else x\n",
        "    )\n",
        "\n",
        "# Display the cleaned DataFrame\n",
        "print(\"Cleaned Comments with Proper Decoding:\")\n",
        "print(df_comments[['string_map_data.Comment.value']].head())\n",
        "\n",
        "# Optional: Extract emojis using emoji library\n",
        "try:\n",
        "    import emoji\n",
        "    df_comments['emojis'] = df_comments['string_map_data.Comment.value'].apply(\n",
        "        lambda x: ''.join(c for c in x if c in emoji.EMOJI_DATA) if isinstance(x, str) else ''\n",
        "    )\n",
        "    print(\"\\nComments with extracted emojis:\")\n",
        "    print(df_comments[['string_map_data.Comment.value', 'emojis']].head())\n",
        "except ImportError:\n",
        "    print(\"\\nInstall the 'emoji' library for emoji extraction: pip install emoji\")\n"
      ],
      "metadata": {
        "colab": {
          "base_uri": "https://localhost:8080/"
        },
        "id": "IVmiqJvO-3ud",
        "outputId": "1f093f50-f7a5-4aca-bc76-1ee0e5e9adf8"
      },
      "execution_count": null,
      "outputs": [
        {
          "output_type": "stream",
          "name": "stdout",
          "text": [
            "Cleaned Comments with Proper Decoding:\n",
            "  string_map_data.Comment.value\n",
            "0                So pretty ❤️❤️\n",
            "1                          ❤️❤️\n",
            "2                          ❤️❤️\n",
            "3                          ❤️❤️\n",
            "4                Kya talent hai\n",
            "\n",
            "Comments with extracted emojis:\n",
            "  string_map_data.Comment.value emojis\n",
            "0                So pretty ❤️❤️     ❤❤\n",
            "1                          ❤️❤️     ❤❤\n",
            "2                          ❤️❤️     ❤❤\n",
            "3                          ❤️❤️     ❤❤\n",
            "4                Kya talent hai       \n"
          ]
        }
      ]
    },
    {
      "cell_type": "code",
      "source": [
        "#new\n",
        "import json\n",
        "import pandas as pd\n",
        "from collections import Counter\n",
        "import matplotlib.pyplot as plt\n",
        "import emoji\n",
        "\n",
        "# Specify the file path\n",
        "file_path = \"/content/extracted_data/your_instagram_activity/comments/post_comments_1.json\"\n",
        "\n",
        "# Load the JSON file\n",
        "with open(file_path, 'r', encoding='utf-8') as f:\n",
        "    comments_data = json.load(f)\n",
        "\n",
        "# Convert JSON to a DataFrame\n",
        "df_comments = pd.json_normalize(comments_data)\n",
        "\n",
        "# Count the number of comments\n",
        "num_comments = df_comments.shape[0]\n",
        "print(f\"Total number of comments: {num_comments}\")\n",
        "\n",
        "# (a) Inspect the Data Structure\n",
        "print(\"Columns in the dataset:\", df_comments.columns)\n",
        "print(\"\\nSample Data:\")\n",
        "print(df_comments.head())\n",
        "\n",
        "# Function to fix double UTF-8 encoded strings\n",
        "def fix_double_encoding(text):\n",
        "    try:\n",
        "        # Decode as bytes, then re-encode as UTF-8\n",
        "        return bytes(text, \"utf-8\").decode(\"utf-8\").encode(\"latin1\").decode(\"utf-8\")\n",
        "    except:\n",
        "        return text  # Return original text if decoding fails\n",
        "\n",
        "# Fix the 'Comment.value' column\n",
        "if 'string_map_data.Comment.value' in df_comments.columns:\n",
        "    df_comments['string_map_data.Comment.value'] = df_comments['string_map_data.Comment.value'].apply(\n",
        "        lambda x: fix_double_encoding(x) if isinstance(x, str) else x\n",
        "    )\n",
        "\n",
        "# (b1) Word Frequency Analysis\n",
        "if 'string_map_data.Comment.value' in df_comments.columns:\n",
        "    # Combine all comments into a single string\n",
        "    all_comments = ' '.join(df_comments['string_map_data.Comment.value'].dropna())\n",
        "\n",
        "    # Tokenize the words\n",
        "    words = all_comments.split()\n",
        "\n",
        "    # Count word frequency\n",
        "    word_count = Counter(words)\n",
        "\n",
        "    # Display the most common words\n",
        "    print(\"\\nTop 10 Most Common Words:\")\n",
        "    print(word_count.most_common(10))\n",
        "\n",
        "    # Plot word frequency\n",
        "    most_common_words = word_count.most_common(10)\n",
        "    words, counts = zip(*most_common_words)\n",
        "\n",
        "    plt.figure(figsize=(10, 6))\n",
        "    plt.bar(words, counts, color='skyblue')\n",
        "    plt.title(\"Top 10 Most Common Words\")\n",
        "    plt.xlabel(\"Words\")\n",
        "    plt.ylabel(\"Frequency\")\n",
        "    plt.xticks(rotation=45)\n",
        "    plt.show()\n",
        "\n",
        "# (b2) Emoji Usage Analysis\n",
        "df_comments['emojis'] = df_comments['string_map_data.Comment.value'].apply(\n",
        "    lambda x: ''.join(c for c in x if c in emoji.EMOJI_DATA) if isinstance(x, str) else ''\n",
        ")\n",
        "\n",
        "# Combine all emojis\n",
        "all_emojis = ''.join(df_comments['emojis'].dropna())\n",
        "\n",
        "# Count emoji frequency\n",
        "emoji_count = Counter(all_emojis)\n",
        "\n",
        "# Display the most common emojis\n",
        "print(\"\\nTop 10 Most Used Emojis:\")\n",
        "print(emoji_count.most_common(10))\n",
        "\n",
        "# Plot emoji usage\n",
        "most_common_emojis = emoji_count.most_common(10)\n",
        "emojis, counts = zip(*most_common_emojis)\n",
        "\n",
        "plt.figure(figsize=(10, 6))\n",
        "plt.bar(emojis, counts, color='orange')\n",
        "plt.title(\"Top 10 Most Used Emojis\")\n",
        "plt.xlabel(\"Emojis\")\n",
        "plt.ylabel(\"Frequency\")\n",
        "plt.show()\n"
      ],
      "metadata": {
        "id": "c02k9wnYhm6o",
        "outputId": "edcfd2ac-44b1-44a5-fe4d-401700cffb81",
        "colab": {
          "base_uri": "https://localhost:8080/",
          "height": 1000
        }
      },
      "execution_count": 4,
      "outputs": [
        {
          "output_type": "stream",
          "name": "stdout",
          "text": [
            "Columns in the dataset: Index(['media_list_data', 'string_map_data.Comment.value',\n",
            "       'string_map_data.Media Owner.value', 'string_map_data.Time.timestamp'],\n",
            "      dtype='object')\n",
            "\n",
            "Sample Data:\n",
            "  media_list_data string_map_data.Comment.value  \\\n",
            "0   [{'uri': ''}]        So pretty â¤ï¸â¤ï¸   \n",
            "1   [{'uri': ''}]                  â¤ï¸â¤ï¸   \n",
            "2   [{'uri': ''}]                  â¤ï¸â¤ï¸   \n",
            "3   [{'uri': ''}]                  â¤ï¸â¤ï¸   \n",
            "4   [{'uri': ''}]                Kya talent hai   \n",
            "\n",
            "  string_map_data.Media Owner.value  string_map_data.Time.timestamp  \n",
            "0                    itisjustmaryam                      1726416650  \n",
            "1                    itisjustmaryam                      1725975157  \n",
            "2                   areebah.shakeel                      1723142603  \n",
            "3                      cheers2abeer                      1718046128  \n",
            "4                      cheers2abeer                      1718041961  \n",
            "\n",
            "Top 10 Most Common Words:\n",
            "[('❤️❤️', 5), ('❤️❤️❤️', 3), ('So', 1), ('pretty', 1), ('Kya', 1), ('talent', 1), ('hai', 1), ('😂😂😂😂', 1), ('Lovely', 1), ('dhoklis♥️♥️', 1)]\n"
          ]
        },
        {
          "output_type": "display_data",
          "data": {
            "text/plain": [
              "<Figure size 1000x600 with 1 Axes>"
            ],
            "image/png": "[encoded data removed]"
          },
          "metadata": {}
        },
        {
          "output_type": "stream",
          "name": "stdout",
          "text": [
            "\n",
            "Top 10 Most Used Emojis:\n",
            "[('❤', 24), ('😂', 4), ('♥', 2)]\n"
          ]
        },
        {
          "output_type": "display_data",
          "data": {
            "text/plain": [
              "<Figure size 1000x600 with 1 Axes>"
            ],
            "image/png": "[encoded data removed]"
          },
          "metadata": {}
        }
      ]
    },
    {
      "cell_type": "code",
      "source": [
        "#for my likes\n",
        "import json\n",
        "import pandas as pd\n",
        "import os\n",
        "\n",
        "# Specify the file path\n",
        "file_path = \"/content/extracted_data/your_instagram_activity/likes/liked_posts.json\"\n",
        "\n",
        "# Load the JSON file\n",
        "with open(file_path, 'r') as f:\n",
        "    comments_data = json.load(f)\n",
        "\n",
        "# Convert JSON to a DataFrame\n",
        "df_comments = pd.json_normalize(comments_data)  # Normalizes nested JSON\n",
        "print(df_comments.head())\n"
      ],
      "metadata": {
        "id": "phS6ypa1-6qZ"
      },
      "execution_count": null,
      "outputs": []
    },
    {
      "cell_type": "code",
      "source": [
        "#for my likes\n",
        "import json\n",
        "import pandas as pd\n",
        "import os\n",
        "\n",
        "# Specify the file path\n",
        "file_path = \"/content/extracted_data/your_instagram_activity/saved/saved_posts.json\"\n",
        "\n",
        "# Load the JSON file\n",
        "with open(file_path, 'r') as f:\n",
        "    comments_data = json.load(f)\n",
        "\n",
        "# Convert JSON to a DataFrame\n",
        "df_comments = pd.json_normalize(comments_data)  # Normalizes nested JSON\n",
        "print(df_comments.head())\n"
      ],
      "metadata": {
        "id": "EfoZAT59DIvf"
      },
      "execution_count": null,
      "outputs": []
    }
  ]
}